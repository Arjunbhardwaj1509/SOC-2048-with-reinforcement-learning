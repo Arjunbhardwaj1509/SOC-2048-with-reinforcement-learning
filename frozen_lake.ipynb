{
 "cells": [
  {
   "cell_type": "code",
   "execution_count": 57,
   "id": "dfe7bfa1-75cd-4374-950d-4f1b5218cd2e",
   "metadata": {},
   "outputs": [],
   "source": [
    "import numpy as np\n",
    "import gym\n",
    "import random\n",
    "import time\n",
    "from IPython.display import clear_output"
   ]
  },
  {
   "cell_type": "code",
   "execution_count": 58,
   "id": "ca25e247-d8be-4356-8e73-e68a8c52787f",
   "metadata": {},
   "outputs": [],
   "source": [
    "env=gym.make(\"FrozenLake-v1\", render_mode=\"ansi\")"
   ]
  },
  {
   "cell_type": "code",
   "execution_count": 59,
   "id": "6845d4b6-cd61-4dab-aeca-be80206f9a38",
   "metadata": {},
   "outputs": [
    {
     "name": "stdout",
     "output_type": "stream",
     "text": [
      "[[0. 0. 0. 0.]\n",
      " [0. 0. 0. 0.]\n",
      " [0. 0. 0. 0.]\n",
      " [0. 0. 0. 0.]\n",
      " [0. 0. 0. 0.]\n",
      " [0. 0. 0. 0.]\n",
      " [0. 0. 0. 0.]\n",
      " [0. 0. 0. 0.]\n",
      " [0. 0. 0. 0.]\n",
      " [0. 0. 0. 0.]\n",
      " [0. 0. 0. 0.]\n",
      " [0. 0. 0. 0.]\n",
      " [0. 0. 0. 0.]\n",
      " [0. 0. 0. 0.]\n",
      " [0. 0. 0. 0.]\n",
      " [0. 0. 0. 0.]]\n"
     ]
    }
   ],
   "source": [
    "action_space_size= env.action_space.n\n",
    "state_space_size= env.observation_space.n\n",
    "q_table= np.zeros((state_space_size,action_space_size))\n",
    "print(q_table)"
   ]
  },
  {
   "cell_type": "code",
   "execution_count": 60,
   "id": "ec5a1ae1-9ffe-40a1-befc-6dff52792fb7",
   "metadata": {},
   "outputs": [],
   "source": [
    "num_episodes=10000\n",
    "max_steps_per_episode=100\n",
    "\n",
    "learning_rate=0.1\n",
    "discount_rate=0.99\n",
    "\n",
    "exploration_rate=1\n",
    "max_exploration_rate=1\n",
    "min_exploration_rate=0.01\n",
    "exploration_decay_rate=0.01\n"
   ]
  },
  {
   "cell_type": "code",
   "execution_count": 61,
   "id": "faaae86e-d05a-4fab-a4d1-4b4b718d062a",
   "metadata": {},
   "outputs": [
    {
     "name": "stdout",
     "output_type": "stream",
     "text": [
      "  (Left)\n",
      "SFFF\n",
      "FHFH\n",
      "FFFH\n",
      "\u001b[41mH\u001b[0mFFG\n",
      "\n",
      "****You fell through a hole!****\n"
     ]
    }
   ],
   "source": [
    "for episode in range(3):\n",
    "    state=env.reset()\n",
    "    done=False\n",
    "    print(\"*****Episode \", episode+1, \"****\\n\\n\\n\\n\")\n",
    "    time.sleep(1)\n",
    "    for step in range(max_steps_per_episode):\n",
    "        clear_output(wait=True)\n",
    "        print(env.render())\n",
    "\n",
    "        time.sleep(0.3)\n",
    "       \n",
    "        action=np.argmax(q_table[state[0],:])\n",
    "        \n",
    "        var=env.step(action)\n",
    "       \n",
    "        new_state=[var[0],var[len(var)-1]]\n",
    "        reward=var[1]\n",
    "        done=var[2]\n",
    "        info=var[3]\n",
    "        \n",
    "        if done :\n",
    "            clear_output(wait=True)\n",
    "            print(env.render())\n",
    "\n",
    "            if reward==1:\n",
    "                print(\"*****You reached the goal!****\")\n",
    "                time.sleep(3)\n",
    "            else:\n",
    "                print(\"****You fell through a hole!****\")\n",
    "                time.sleep(3)\n",
    "            clear_output(wait=True)\n",
    "            break\n",
    "        state=new_state\n",
    "env.close()"
   ]
  },
  {
   "cell_type": "code",
   "execution_count": null,
   "id": "f1fc8cbc-c26f-4861-b48b-296ad098b43c",
   "metadata": {},
   "outputs": [],
   "source": []
  },
  {
   "cell_type": "code",
   "execution_count": null,
   "id": "e47d525f-d80e-48e9-8fe3-0271dde42137",
   "metadata": {},
   "outputs": [],
   "source": []
  }
 ],
 "metadata": {
  "kernelspec": {
   "display_name": "Python 3 (ipykernel)",
   "language": "python",
   "name": "python3"
  },
  "language_info": {
   "codemirror_mode": {
    "name": "ipython",
    "version": 3
   },
   "file_extension": ".py",
   "mimetype": "text/x-python",
   "name": "python",
   "nbconvert_exporter": "python",
   "pygments_lexer": "ipython3",
   "version": "3.12.5"
  }
 },
 "nbformat": 4,
 "nbformat_minor": 5
}
